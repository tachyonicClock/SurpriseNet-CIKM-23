{
 "cells": [
  {
   "cell_type": "code",
   "execution_count": 1,
   "metadata": {},
   "outputs": [],
   "source": [
    "import pandas as pd\n",
    "import seaborn as sns\n",
    "sns.set(rc={'figure.figsize':(16,9)})\n",
    "\n"
   ]
  },
  {
   "cell_type": "code",
   "execution_count": null,
   "metadata": {},
   "outputs": [],
   "source": [
    "df: pd.DataFrame = pd.read_csv(\"data/simple_autoencoder.csv\")"
   ]
  },
  {
   "cell_type": "code",
   "execution_count": null,
   "metadata": {},
   "outputs": [],
   "source": [
    "df[\"continual\"] = pd.cut(df[\"n_experiences\"], bins=[0, 1, 5], labels=[True, False])\n",
    "sns.scatterplot(data=df, x=\"latent_dim\", y=\"Accuracy\", hue=\"continual\")"
   ]
  },
  {
   "cell_type": "code",
   "execution_count": 10,
   "metadata": {},
   "outputs": [],
   "source": [
    "from sklearn.decomposition import PCA\n",
    "import dill\n",
    "from torch.nn.functional import normalize\n",
    "from torchvision.datasets import FashionMNIST\n",
    "from torchvision import transforms\n",
    "import torch\n",
    "\n",
    "transform = transforms.Compose([transforms.ToTensor(), transforms.RandomHorizontalFlip(), transforms.Normalize((0.5,), (0.5,))])\n",
    "train_dataset = FashionMNIST(root=\"../datasets\", train=True, download=True, transform=transform)\n",
    "train_dataset = torch.utils.data.DataLoader(dataset=train_dataset, batch_size=len(train_dataset))\n",
    "\n",
    "images, labels = next(iter(train_dataset))\n",
    "\n",
    "\n",
    "# dataset = \"L128_FMNIST_SSAE.pkl\"\n",
    "# with open(dataset, \"rb\") as f:\n",
    "#     dataset = dill.load(f)"
   ]
  },
  {
   "cell_type": "code",
   "execution_count": 9,
   "metadata": {},
   "outputs": [
    {
     "data": {
      "text/plain": [
       "tensor([-1., -1., -1.,  ..., -1., -1., -1.])"
      ]
     },
     "execution_count": 9,
     "metadata": {},
     "output_type": "execute_result"
    }
   ],
   "source": [
    "# df = pd.DataFrame({\"codes\":images.tolist(), \"class\": labels})\n",
    "images = images.flatten(dim=2)"
   ]
  },
  {
   "cell_type": "code",
   "execution_count": 6,
   "metadata": {},
   "outputs": [
    {
     "data": {
      "text/plain": [
       "0        [[[-1.0, -1.0, -1.0, -1.0, -1.0, -1.0, -1.0, -...\n",
       "1        [[[-1.0, -1.0, -1.0, -1.0, -1.0, -0.9921568632...\n",
       "2        [[[-1.0, -1.0, -1.0, -1.0, -1.0, -1.0, -1.0, -...\n",
       "3        [[[-1.0, -1.0, -1.0, -1.0, -1.0, -1.0, -1.0, -...\n",
       "4        [[[-1.0, -1.0, -1.0, -1.0, -1.0, -1.0, -1.0, -...\n",
       "                               ...                        \n",
       "59995    [[[-1.0, -1.0, -1.0, -1.0, -1.0, -1.0, -1.0, -...\n",
       "59996    [[[-1.0, -1.0, -1.0, -1.0, -1.0, -1.0, -1.0, -...\n",
       "59997    [[[-1.0, -1.0, -1.0, -1.0, -1.0, -1.0, -1.0, -...\n",
       "59998    [[[-1.0, -1.0, -1.0, -1.0, -1.0, -1.0, -1.0, -...\n",
       "59999    [[[-1.0, -1.0, -1.0, -1.0, -1.0, -1.0, -1.0, -...\n",
       "Name: codes, Length: 60000, dtype: object"
      ]
     },
     "execution_count": 6,
     "metadata": {},
     "output_type": "execute_result"
    }
   ],
   "source": [
    "# df[\"codes\"] = df[\"codes\"].apply()\n",
    "# pca = PCA(n_components=2)\n",
    "# pca = pca.fit(list(df[\"codes\"]))\n",
    "\n",
    "df[\"codes\"]\n",
    "\n",
    "# for i, c in enumerate(list(pca.explained_variance_ratio_)):\n",
    "#     print(f\"Component {i} explains {c*100:.2f} of variance\")\n",
    "\n",
    "\n",
    "# df[\"dim_1\"], df[\"dim_2\"] = df[\"codes\"].apply(lambda x: pca.transform([x])[0])"
   ]
  },
  {
   "cell_type": "code",
   "execution_count": null,
   "metadata": {},
   "outputs": [],
   "source": [
    "df[\"class\"] = df[\"class\"].apply(lambda x: str(x))\n",
    "sns.scatterplot(data=df, x=\"dim_1\", y=\"dim_2\", hue=\"class\", alpha=0.2).set_title('L128_FMNIST_SSAE')"
   ]
  }
 ],
 "metadata": {
  "interpreter": {
   "hash": "4839fe716dff7faeda236a63134f028e1f3d97c1113b9276d429fcc26fd67641"
  },
  "kernelspec": {
   "display_name": "Python 3.8.12 ('avalanche-env')",
   "language": "python",
   "name": "python3"
  },
  "language_info": {
   "codemirror_mode": {
    "name": "ipython",
    "version": 3
   },
   "file_extension": ".py",
   "mimetype": "text/x-python",
   "name": "python",
   "nbconvert_exporter": "python",
   "pygments_lexer": "ipython3",
   "version": "3.8.12"
  },
  "orig_nbformat": 4
 },
 "nbformat": 4,
 "nbformat_minor": 2
}
