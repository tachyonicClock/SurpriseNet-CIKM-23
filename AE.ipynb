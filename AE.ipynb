{
 "cells": [
  {
   "cell_type": "code",
   "execution_count": 1,
   "metadata": {},
   "outputs": [
    {
     "name": "stdout",
     "output_type": "stream",
     "text": [
      "Using matplotlib backend: <object object at 0x7fe474a4ace0>\n"
     ]
    }
   ],
   "source": [
    "import typing\n",
    "import torch\n",
    "from torch import nn, Tensor\n",
    "from dataclasses import dataclass\n",
    "from conf import *\n",
    "import avalanche as av\n",
    "import torch.nn.functional as F\n",
    "\n",
    "from experiment.experiment import Experiment, BaseHyperParameters\n",
    "%load_ext autoreload\n",
    "%autoreload 2\n",
    "\n",
    "%matplotlib auto\n",
    "\n",
    "from functional import best_reduce\n"
   ]
  },
  {
   "cell_type": "code",
   "execution_count": 2,
   "metadata": {},
   "outputs": [],
   "source": [
    "from avalanche.benchmarks.classic.cfashion_mnist import SplitFMNIST\n",
    "from network.trait import PackNetParent, Classifier\n",
    "from network.coders import PackNetDenseEncoder, PackNetDenseDecoder, PackNetDenseHead, PN_CNN_Decoder, PN_CNN_Encoder\n",
    "from network.deep_generative import DAE, DAE_Loss\n",
    "\n",
    "import torchvision.transforms as transforms\n",
    "\n",
    "from experiment.plugins import PackNetPlugin\n",
    "\n",
    "\n",
    "class PackNetClassifyingAutoEncoder(DAE, PackNetParent):\n",
    "    encoder: PackNetParent\n",
    "    decoder: PackNetParent\n",
    "    head: PackNetParent\n",
    "\n",
    "    subnet_count: int = 0\n",
    "\n",
    "    def _pn_apply(self, func: typing.Callable[['PackNetParent'], None]):\n",
    "        \"\"\"Apply only to child PackNetModule\"\"\"\n",
    "        for module in [self.encoder, self.decoder, self.head]:\n",
    "            func(module)\n",
    "\n",
    "    def forward(self, x: Tensor) -> DAE.ForwardOutput:\n",
    "        # if self.training:\n",
    "        return super().forward(x)\n",
    "        # return self._eval_forward(x)\n",
    "\n",
    "    def push_pruned(self):\n",
    "        super().push_pruned()\n",
    "        self.subnet_count += 1\n",
    "\n",
    "    @torch.no_grad()\n",
    "    def _eval_forward(self, x: Tensor) -> DAE.ForwardOutput:\n",
    "\n",
    "        # Generate `ForwardOutput` for each `PackNet` subnetwork/stack layer\n",
    "        losses: typing.Sequence[float] = []\n",
    "        x_hats, y_hats, z_codes = [], [], []\n",
    "        for i in range(self.subnet_count):\n",
    "            self.use_task_subset(i)\n",
    "\n",
    "            output = super().forward(x)\n",
    "            # Calculate MSE to determine the how familiar the stack layer is with\n",
    "            # the instance\n",
    "            loss = F.mse_loss(output.x_hat, x, reduction=\"none\").sum(dim=[1,2,3])\n",
    "\n",
    "            x_hats.append(output.x_hat)\n",
    "            y_hats.append(output.y_hat)\n",
    "            z_codes.append(output.z_code)\n",
    "            losses.append(loss)\n",
    "\n",
    "        # Select the best subnetwork's output\n",
    "        losses = torch.stack(losses)\n",
    "        x_hat = best_reduce(losses, torch.stack(x_hats))\n",
    "        y_hat = best_reduce(losses, torch.stack(y_hats))\n",
    "        z_code = best_reduce(losses, torch.stack(z_codes))\n",
    "\n",
    "        self.use_top_subset()\n",
    "\n",
    "        return self.ForwardOutput(y_hat, x, x_hat, z_code)\n",
    "\n",
    "@dataclass\n",
    "class HyperParams(BaseHyperParameters):\n",
    "    prune: bool\n",
    "    prune_proportion: float\n",
    "    post_prune_epochs: int\n",
    "    classifier_weight: float = 1.0\n",
    "    latent_dims: int = 64\n",
    "\n",
    "class MyExperiment(Experiment):\n",
    "\n",
    "    hp: HyperParams\n",
    "    network: DAE\n",
    "\n",
    "    def __init__(self, hp: HyperParams) -> None:\n",
    "        super().__init__(hp)\n",
    "\n",
    "    def make_network(self) -> nn.Module:\n",
    "        latent_dims = self.hp.latent_dims\n",
    "\n",
    "        # encoder = PackNetDenseEncoder((1, 28, 28), 64, [512, 256, 128])\n",
    "        # decoder = PackNetDenseDecoder((1, 28, 28), 64, [128, 256, 512])\n",
    "\n",
    "        channels = 1\n",
    "        base_channel_size = 32\n",
    "        encoder = PN_CNN_Encoder(channels, base_channel_size, latent_dims)\n",
    "        decoder = PN_CNN_Decoder(channels, base_channel_size, latent_dims)\n",
    "        \n",
    "        head = PackNetDenseHead(latent_dims, 10)\n",
    "        return PackNetClassifyingAutoEncoder(latent_dims, encoder, decoder, head)\n",
    "\n",
    "    def make_optimizer(self, parameters) -> torch.optim.Optimizer:\n",
    "        optimizer = torch.optim.SGD(parameters, self.hp.lr)\n",
    "        return optimizer\n",
    "\n",
    "    def add_plugins(self):\n",
    "        return [PackNetPlugin(self.network, self.hp.prune_proportion, self.hp.post_prune_epochs)]\n",
    "\n",
    "\n",
    "    def make_criterion(self):\n",
    "        loss = DAE_Loss(1.0, self.hp.classifier_weight)\n",
    "        def _loss_function(output: Tensor, target: Tensor) -> Tensor:\n",
    "            return loss.loss(self.last_mb_output, target)\n",
    "        return _loss_function\n",
    "\n",
    "    def make_scenario(self):\n",
    "        transform = transforms.Compose(\n",
    "            [transforms.ToTensor(), transforms.Normalize((0.2860,), (0.3530,)), transforms.Resize((32, 32))]\n",
    "        )\n",
    "        scenario = SplitFMNIST(\n",
    "            n_experiences=5,\n",
    "            fixed_class_order=[0, 1, 2, 3, 4, 5, 6, 7, 8, 9],\n",
    "            dataset_root=DATASETS,\n",
    "            return_task_id=True,\n",
    "            train_transform=transform,\n",
    "            eval_transform=transform)\n",
    "        return scenario\n"
   ]
  },
  {
   "cell_type": "code",
   "execution_count": 3,
   "metadata": {},
   "outputs": [
    {
     "name": "stdout",
     "output_type": "stream",
     "text": [
      "Network: <class '__main__.PackNetClassifyingAutoEncoder'>\n",
      " > Has the <class 'network.trait.PackNet'> trait\n",
      " > Has the <class 'network.trait.AutoEncoder'> trait\n",
      " > Has the <class 'network.trait.Classifier'> trait\n",
      "Start of experience: 0\n",
      "Current Classes:     [0, 1]\n",
      "Experience size:     12000\n"
     ]
    },
    {
     "name": "stderr",
     "output_type": "stream",
     "text": [
      "INFO:experiment.plugins:Pruning Network, 50.0% remaining\n",
      "INFO:experiment.plugins:Pushing\n"
     ]
    },
    {
     "name": "stdout",
     "output_type": "stream",
     "text": [
      "Start of experience: 1\n",
      "Current Classes:     [2, 3]\n",
      "Experience size:     12000\n"
     ]
    },
    {
     "name": "stderr",
     "output_type": "stream",
     "text": [
      "INFO:experiment.plugins:Pruning Network, 25.0% remaining\n",
      "INFO:experiment.plugins:Pushing\n"
     ]
    },
    {
     "name": "stdout",
     "output_type": "stream",
     "text": [
      "Start of experience: 2\n",
      "Current Classes:     [4, 5]\n",
      "Experience size:     12000\n"
     ]
    },
    {
     "name": "stderr",
     "output_type": "stream",
     "text": [
      "INFO:experiment.plugins:Pruning Network, 12.5% remaining\n",
      "INFO:experiment.plugins:Pushing\n"
     ]
    },
    {
     "name": "stdout",
     "output_type": "stream",
     "text": [
      "Start of experience: 3\n",
      "Current Classes:     [6, 7]\n",
      "Experience size:     12000\n"
     ]
    },
    {
     "name": "stderr",
     "output_type": "stream",
     "text": [
      "INFO:experiment.plugins:Pruning Network, 6.25% remaining\n",
      "INFO:experiment.plugins:Pushing\n"
     ]
    },
    {
     "name": "stdout",
     "output_type": "stream",
     "text": [
      "Start of experience: 4\n",
      "Current Classes:     [8, 9]\n",
      "Experience size:     12000\n"
     ]
    },
    {
     "name": "stderr",
     "output_type": "stream",
     "text": [
      "INFO:experiment.plugins:Pruning Network, 3.125% remaining\n",
      "INFO:experiment.plugins:Pushing\n"
     ]
    },
    {
     "name": "stdout",
     "output_type": "stream",
     "text": [
      "DONE!\n"
     ]
    }
   ],
   "source": [
    "experiment = MyExperiment(\n",
    "    HyperParams(\n",
    "            lr=0.001,\n",
    "            train_mb_size=32,\n",
    "            train_epochs=10,\n",
    "            eval_mb_size=128,\n",
    "            eval_every=-1,\n",
    "            prune=True,\n",
    "            prune_proportion=0.50,\n",
    "            post_prune_epochs=15,\n",
    "            classifier_weight=10.0,\n",
    "            device=\"cuda\"\n",
    "    )\n",
    ")\n",
    "\n",
    "experiment.train()\n",
    "print(\"DONE!\")"
   ]
  }
 ],
 "metadata": {
  "interpreter": {
   "hash": "4839fe716dff7faeda236a63134f028e1f3d97c1113b9276d429fcc26fd67641"
  },
  "kernelspec": {
   "display_name": "Python 3.8.12 64-bit ('avalanche-env': conda)",
   "language": "python",
   "name": "python3"
  },
  "language_info": {
   "codemirror_mode": {
    "name": "ipython",
    "version": 3
   },
   "file_extension": ".py",
   "mimetype": "text/x-python",
   "name": "python",
   "nbconvert_exporter": "python",
   "pygments_lexer": "ipython3",
   "version": "3.8.12"
  },
  "orig_nbformat": 4
 },
 "nbformat": 4,
 "nbformat_minor": 2
}
