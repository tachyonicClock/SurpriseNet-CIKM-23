{
 "cells": [
  {
   "cell_type": "code",
   "execution_count": null,
   "metadata": {},
   "outputs": [],
   "source": [
    "import typing\n",
    "import torch\n",
    "from torch import nn, Tensor\n",
    "from dataclasses import dataclass\n",
    "from conf import *\n",
    "import torch.nn.functional as F\n",
    "from avalanche.benchmarks.classic.cfashion_mnist import SplitFMNIST\n",
    "import torchvision.transforms as transforms\n",
    "from experiment.experiment import Experiment, BaseHyperParameters\n",
    "\n",
    "%matplotlib auto\n",
    "%load_ext autoreload\n",
    "%autoreload 2\n",
    "from network.vae import VAE\n"
   ]
  },
  {
   "cell_type": "code",
   "execution_count": null,
   "metadata": {},
   "outputs": [],
   "source": [
    "\n",
    "\n",
    "\n",
    "@dataclass\n",
    "class HyperParams(BaseHyperParameters):\n",
    "    pass\n",
    "\n",
    "\n",
    "class MyExperiment(Experiment):\n",
    "\n",
    "    hp: HyperParams\n",
    "    network: VAE\n",
    "\n",
    "    classifier_weight: float = 50.0\n",
    "\n",
    "    def __init__(self, hp: HyperParams) -> None:\n",
    "        super().__init__(hp)\n",
    "\n",
    "        self.after_eval_forward = self.after_forward\n",
    "\n",
    "    def make_network(self) -> nn.Module:\n",
    "        return VAE()\n",
    "\n",
    "    def make_optimizer(self, parameters) -> torch.optim.Optimizer:\n",
    "        optimizer = torch.optim.Adam(parameters, self.hp.lr)\n",
    "        return optimizer\n",
    "\n",
    "    def _reconstruction_loss(self, x: Tensor, x_hat: Tensor):\n",
    "        loss = F.mse_loss(x, x_hat, reduction=\"none\")\n",
    "        loss = loss.sum(dim=[1, 2, 3]).mean(dim=[0])\n",
    "        return loss\n",
    "\n",
    "    def after_forward(self, strategy: 'BaseStrategy', **kwargs):\n",
    "        \"\"\"Disentangle reconstruction and classification\"\"\"\n",
    "        self.forward_output: VAE.ForwardOutput = self.strategy.mb_output\n",
    "        self.strategy.mb_output = self.forward_output.y_hat\n",
    "\n",
    "    # def before():\n",
    "\n",
    "    def make_criterion(self):\n",
    "        # self.cross_entropy = nn.CrossEntropyLoss()\n",
    "\n",
    "        def VAE_criterion(output, target):\n",
    "            out = self.forward_output\n",
    "            return self.network.loss_function(out.x_hat, out.x, out.mu, out.log_var)\n",
    "\n",
    "        return VAE_criterion\n",
    "\n",
    "\n",
    "    def make_scenario(self):\n",
    "        transform = transforms.Compose(\n",
    "            [transforms.ToTensor(), transforms.Normalize((0.2860,), (0.3530,))]\n",
    "        )\n",
    "        scenario = SplitFMNIST(\n",
    "            n_experiences=5,\n",
    "            fixed_class_order=[0, 1, 2, 3, 4, 5, 6, 7, 8, 9],\n",
    "            dataset_root=DATASETS,\n",
    "            train_transform=transform,\n",
    "            eval_transform=transform)\n",
    "        return scenario\n"
   ]
  },
  {
   "cell_type": "code",
   "execution_count": null,
   "metadata": {},
   "outputs": [],
   "source": [
    "experiment = MyExperiment(\n",
    "    HyperParams(\n",
    "        lr=0.002,\n",
    "        train_mb_size=32,\n",
    "        train_epochs=50,\n",
    "        eval_mb_size=128,\n",
    "        eval_every=-1,\n",
    "        device=\"cuda\"\n",
    "    )\n",
    ").train()\n"
   ]
  }
 ],
 "metadata": {
  "interpreter": {
   "hash": "4839fe716dff7faeda236a63134f028e1f3d97c1113b9276d429fcc26fd67641"
  },
  "kernelspec": {
   "display_name": "Python 3.8.12 ('avalanche-env')",
   "language": "python",
   "name": "python3"
  },
  "language_info": {
   "codemirror_mode": {
    "name": "ipython",
    "version": 3
   },
   "file_extension": ".py",
   "mimetype": "text/x-python",
   "name": "python",
   "nbconvert_exporter": "python",
   "pygments_lexer": "ipython3",
   "version": "3.8.12"
  },
  "orig_nbformat": 4
 },
 "nbformat": 4,
 "nbformat_minor": 2
}
