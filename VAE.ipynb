{
 "cells": [
  {
   "cell_type": "code",
   "execution_count": 1,
   "metadata": {},
   "outputs": [
    {
     "name": "stdout",
     "output_type": "stream",
     "text": [
      "Using matplotlib backend: <object object at 0x7f414d78acf0>\n"
     ]
    }
   ],
   "source": [
    "import typing\n",
    "import torch\n",
    "from torch import nn, Tensor\n",
    "from dataclasses import dataclass\n",
    "from conf import *\n",
    "import torch.nn.functional as F\n",
    "from avalanche.benchmarks.classic.cfashion_mnist import SplitFMNIST\n",
    "import torchvision.transforms as transforms\n",
    "from experiment.experiment import Experiment, BaseHyperParameters\n",
    "\n",
    "%matplotlib auto\n",
    "%load_ext autoreload\n",
    "%autoreload 2\n",
    "from network.vae import VAE, VAE_Loss\n"
   ]
  },
  {
   "cell_type": "code",
   "execution_count": 2,
   "metadata": {},
   "outputs": [],
   "source": [
    "\n",
    "\n",
    "\n",
    "@dataclass\n",
    "class HyperParams(BaseHyperParameters):\n",
    "    pass\n",
    "\n",
    "\n",
    "class MyExperiment(Experiment):\n",
    "\n",
    "    hp: HyperParams\n",
    "    network: VAE\n",
    "\n",
    "    classifier_weight: float = 50.0\n",
    "\n",
    "    def __init__(self, hp: HyperParams) -> None:\n",
    "        super().__init__(hp)\n",
    "\n",
    "        self.after_eval_forward = self.after_forward\n",
    "\n",
    "    def make_network(self) -> nn.Module:\n",
    "        return VAE()\n",
    "\n",
    "    def make_optimizer(self, parameters) -> torch.optim.Optimizer:\n",
    "        optimizer = torch.optim.Adam(parameters, self.hp.lr)\n",
    "        return optimizer\n",
    "\n",
    "    def _reconstruction_loss(self, x: Tensor, x_hat: Tensor):\n",
    "        loss = F.mse_loss(x, x_hat, reduction=\"none\")\n",
    "        loss = loss.sum(dim=[1, 2, 3]).mean(dim=[0])\n",
    "        return loss\n",
    "\n",
    "    def after_forward(self, strategy: 'BaseStrategy', **kwargs):\n",
    "        \"\"\"Disentangle reconstruction and classification\"\"\"\n",
    "        self.forward_output: VAE.ForwardOutput = self.strategy.mb_output\n",
    "        self.strategy.mb_output = self.forward_output.y_hat\n",
    "\n",
    "    def make_criterion(self):\n",
    "        self.criterion = VAE_Loss(1.0, 1.0, 1.0)\n",
    "        def VAE_criterion(output, target):\n",
    "            return self.criterion.loss(self.forward_output, target)\n",
    "        return VAE_criterion\n",
    "\n",
    "\n",
    "    def make_scenario(self):\n",
    "        transform = transforms.Compose(\n",
    "            [transforms.ToTensor(), transforms.Normalize((0.2860,), (0.3530,))]\n",
    "        )\n",
    "        scenario = SplitFMNIST(\n",
    "            n_experiences=5,\n",
    "            fixed_class_order=[0, 1, 2, 3, 4, 5, 6, 7, 8, 9],\n",
    "            dataset_root=DATASETS,\n",
    "            train_transform=transform,\n",
    "            eval_transform=transform)\n",
    "        return scenario\n"
   ]
  },
  {
   "cell_type": "code",
   "execution_count": 5,
   "metadata": {},
   "outputs": [
    {
     "name": "stderr",
     "output_type": "stream",
     "text": [
      "/Scratch/al183/avalanche/avalanche/training/templates/base.py:200: UserWarning: Plugin <__main__.MyExperiment object at 0x7f4147bf8af0> implements incompatible callbacks for template <avalanche.training.templates.supervised.SupervisedTemplate object at 0x7f40b834a700>. This may result in errors.\n",
      "  warnings.warn(\n"
     ]
    },
    {
     "name": "stdout",
     "output_type": "stream",
     "text": [
      "Network: <class 'network.vae.VAE'>\n",
      " > Has the <class 'network.trait.AutoEncoder'> trait\n",
      " > Has the <class 'network.trait.Classifier'> trait\n",
      " > Has the <class 'network.trait.Samplable'> trait\n",
      "Start of experience: 0\n",
      "Current Classes:     [0, 1]\n",
      "Experience size:     12000\n",
      "Start of experience: 1\n",
      "Current Classes:     [2, 3]\n",
      "Experience size:     12000\n",
      "Start of experience: 2\n",
      "Current Classes:     [4, 5]\n",
      "Experience size:     12000\n",
      "Start of experience: 3\n",
      "Current Classes:     [6, 7]\n",
      "Experience size:     12000\n",
      "Start of experience: 4\n",
      "Current Classes:     [8, 9]\n",
      "Experience size:     12000\n"
     ]
    }
   ],
   "source": [
    "experiment = MyExperiment(\n",
    "    HyperParams(\n",
    "        lr=0.005,\n",
    "        train_mb_size=32,\n",
    "        train_epochs=1,\n",
    "        eval_mb_size=128,\n",
    "        eval_every=-1,\n",
    "        device=\"cuda\"\n",
    "    )\n",
    ").train()\n"
   ]
  }
 ],
 "metadata": {
  "interpreter": {
   "hash": "4839fe716dff7faeda236a63134f028e1f3d97c1113b9276d429fcc26fd67641"
  },
  "kernelspec": {
   "display_name": "Python 3.8.12 ('avalanche-env')",
   "language": "python",
   "name": "python3"
  },
  "language_info": {
   "codemirror_mode": {
    "name": "ipython",
    "version": 3
   },
   "file_extension": ".py",
   "mimetype": "text/x-python",
   "name": "python",
   "nbconvert_exporter": "python",
   "pygments_lexer": "ipython3",
   "version": "3.8.12"
  },
  "orig_nbformat": 4
 },
 "nbformat": 4,
 "nbformat_minor": 2
}
