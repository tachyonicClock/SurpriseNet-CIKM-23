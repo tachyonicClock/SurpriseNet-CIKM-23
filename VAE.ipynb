{
 "cells": [
  {
   "cell_type": "code",
   "execution_count": 1,
   "metadata": {},
   "outputs": [
    {
     "name": "stdout",
     "output_type": "stream",
     "text": [
      "Using matplotlib backend: <object object at 0x7fe3bf28bc00>\n"
     ]
    }
   ],
   "source": [
    "import typing\n",
    "import torch\n",
    "from torch import nn, Tensor\n",
    "from dataclasses import dataclass\n",
    "from conf import *\n",
    "import torch.nn.functional as F\n",
    "from avalanche.benchmarks.classic.cfashion_mnist import SplitFMNIST\n",
    "import torchvision.transforms as transforms\n",
    "from experiment.experiment import Experiment, BaseHyperParameters\n",
    "from network.coders import PackNetDenseEncoder, PackNetDenseDecoder, PackNetDenseHead\n",
    "\n",
    "%matplotlib auto\n",
    "%load_ext autoreload\n",
    "%autoreload 2\n",
    "from network.deep_generative import DVAE, DVAE_Loss\n",
    "from network.trait import PackNetModule\n",
    "from experiment.plugins import PackNetPlugin\n"
   ]
  },
  {
   "cell_type": "code",
   "execution_count": 2,
   "metadata": {},
   "outputs": [],
   "source": [
    "\n",
    "class PN_VAE(DVAE, PackNetModule):\n",
    "    \"\"\"PackNet variational auto-encoder\"\"\"\n",
    "\n",
    "    def _pn_apply(self, func: typing.Callable[['PackNetModule'], None]):\n",
    "        \"\"\"Apply only to child PackNetModule\"\"\"\n",
    "        for module in [self.encoder, self.decoder, self.class_head, self.mu_head, self.var_head]:\n",
    "            func(module)\n",
    "\n",
    "    def __init__(self, latent_dims=64):\n",
    "        super().__init__(\n",
    "            latent_dims,\n",
    "            encoder=PackNetDenseEncoder((1, 28, 28), 64, [512, 256, 128]),\n",
    "            decoder=PackNetDenseDecoder((1, 28, 28), 64, [128, 256, 512]),\n",
    "            class_head=PackNetDenseHead(latent_dims, 10),\n",
    "            mu_head=PackNetDenseHead(latent_dims, latent_dims),\n",
    "            var_head=PackNetDenseHead(latent_dims, latent_dims)\n",
    "        )\n",
    "\n",
    "@dataclass\n",
    "class HyperParams(BaseHyperParameters):\n",
    "    prune_proportion: float\n",
    "    post_prune_epochs: int\n",
    "\n",
    "\n",
    "class MyExperiment(Experiment):\n",
    "\n",
    "    hp: HyperParams\n",
    "    network: DVAE\n",
    "\n",
    "    classifier_weight: float = 50.0\n",
    "\n",
    "    def __init__(self, hp: HyperParams) -> None:\n",
    "        super().__init__(hp)\n",
    "\n",
    "        self.after_eval_forward = self.after_forward\n",
    "\n",
    "    def make_network(self) -> nn.Module:\n",
    "\n",
    "        return PN_VAE(64)\n",
    "\n",
    "    def make_optimizer(self, parameters) -> torch.optim.Optimizer:\n",
    "        optimizer = torch.optim.SGD(parameters, self.hp.lr)\n",
    "        return optimizer\n",
    "\n",
    "    def make_criterion(self):\n",
    "        self.criterion = DVAE_Loss(recon_weight=1.0, classifier_weight=1.0, kld_weight=1.0)\n",
    "        def VAE_criterion(output, target):\n",
    "            return self.criterion.loss(self.last_mb_output, target)\n",
    "        return VAE_criterion\n",
    "\n",
    "    def add_plugins(self):\n",
    "        return [PackNetPlugin(self.network, self.hp.prune_proportion, self.hp.post_prune_epochs)]\n",
    "\n",
    "\n",
    "    def make_scenario(self):\n",
    "        transform = transforms.Compose(\n",
    "            [transforms.ToTensor(), transforms.Normalize((0.2860,), (0.3530,))]\n",
    "        )\n",
    "        scenario = SplitFMNIST(\n",
    "            n_experiences=5,\n",
    "            fixed_class_order=[0, 1, 2, 3, 4, 5, 6, 7, 8, 9],\n",
    "            dataset_root=DATASETS,\n",
    "            return_task_id=True,\n",
    "            train_transform=transform,\n",
    "            eval_transform=transform)\n",
    "        return scenario\n"
   ]
  },
  {
   "cell_type": "code",
   "execution_count": 3,
   "metadata": {},
   "outputs": [
    {
     "name": "stdout",
     "output_type": "stream",
     "text": [
      "Network: <class '__main__.PN_VAE'>\n",
      " > Has the <class 'network.trait.PackNetModule'> trait\n",
      " > Has the <class 'network.trait.AutoEncoder'> trait\n",
      " > Has the <class 'network.trait.Classifier'> trait\n",
      " > Has the <class 'network.trait.Samplable'> trait\n",
      "Start of experience: 0\n",
      "Current Classes:     [0, 1]\n",
      "Experience size:     12000\n"
     ]
    },
    {
     "name": "stderr",
     "output_type": "stream",
     "text": [
      "INFO:experiment.plugins:Pruning Network, 50.0% remaining\n",
      "INFO:experiment.plugins:Pushing\n",
      "INFO:experiment.plugins:Using task label 0\n",
      "INFO:experiment.plugins:Using task label 1\n",
      "INFO:experiment.plugins:Using task label 2\n",
      "INFO:experiment.plugins:Using task label 3\n",
      "INFO:experiment.plugins:Using task label 4\n"
     ]
    },
    {
     "name": "stdout",
     "output_type": "stream",
     "text": [
      "Start of experience: 1\n",
      "Current Classes:     [2, 3]\n",
      "Experience size:     12000\n"
     ]
    },
    {
     "name": "stderr",
     "output_type": "stream",
     "text": [
      "INFO:experiment.plugins:Pruning Network, 25.0% remaining\n",
      "INFO:experiment.plugins:Pushing\n",
      "INFO:experiment.plugins:Using task label 0\n",
      "INFO:experiment.plugins:Using task label 1\n",
      "INFO:experiment.plugins:Using task label 2\n",
      "INFO:experiment.plugins:Using task label 3\n",
      "INFO:experiment.plugins:Using task label 4\n"
     ]
    },
    {
     "name": "stdout",
     "output_type": "stream",
     "text": [
      "Start of experience: 2\n",
      "Current Classes:     [4, 5]\n",
      "Experience size:     12000\n"
     ]
    },
    {
     "name": "stderr",
     "output_type": "stream",
     "text": [
      "INFO:experiment.plugins:Pruning Network, 12.5% remaining\n",
      "INFO:experiment.plugins:Pushing\n",
      "INFO:experiment.plugins:Using task label 0\n",
      "INFO:experiment.plugins:Using task label 1\n",
      "INFO:experiment.plugins:Using task label 2\n",
      "INFO:experiment.plugins:Using task label 3\n",
      "INFO:experiment.plugins:Using task label 4\n"
     ]
    },
    {
     "name": "stdout",
     "output_type": "stream",
     "text": [
      "Start of experience: 3\n",
      "Current Classes:     [6, 7]\n",
      "Experience size:     12000\n"
     ]
    },
    {
     "name": "stderr",
     "output_type": "stream",
     "text": [
      "INFO:experiment.plugins:Pruning Network, 6.25% remaining\n",
      "INFO:experiment.plugins:Pushing\n",
      "INFO:experiment.plugins:Using task label 0\n",
      "INFO:experiment.plugins:Using task label 1\n",
      "INFO:experiment.plugins:Using task label 2\n",
      "INFO:experiment.plugins:Using task label 3\n",
      "INFO:experiment.plugins:Using task label 4\n"
     ]
    },
    {
     "name": "stdout",
     "output_type": "stream",
     "text": [
      "Start of experience: 4\n",
      "Current Classes:     [8, 9]\n",
      "Experience size:     12000\n"
     ]
    },
    {
     "name": "stderr",
     "output_type": "stream",
     "text": [
      "INFO:experiment.plugins:Pruning Network, 3.125% remaining\n",
      "INFO:experiment.plugins:Pushing\n",
      "INFO:experiment.plugins:Using task label 0\n",
      "INFO:experiment.plugins:Using task label 1\n",
      "INFO:experiment.plugins:Using task label 2\n",
      "INFO:experiment.plugins:Using task label 3\n",
      "INFO:experiment.plugins:Using task label 4\n"
     ]
    }
   ],
   "source": [
    "experiment = MyExperiment(\n",
    "    HyperParams(\n",
    "        lr=0.001,\n",
    "        train_mb_size=32,\n",
    "        train_epochs=10,\n",
    "        prune_proportion=0.50,\n",
    "        post_prune_epochs=20,\n",
    "        eval_mb_size=128,\n",
    "        eval_every=-1,\n",
    "        device=\"cuda\"\n",
    "    )\n",
    ").train()\n"
   ]
  }
 ],
 "metadata": {
  "interpreter": {
   "hash": "4839fe716dff7faeda236a63134f028e1f3d97c1113b9276d429fcc26fd67641"
  },
  "kernelspec": {
   "display_name": "Python 3.8.12 ('avalanche-env')",
   "language": "python",
   "name": "python3"
  },
  "language_info": {
   "codemirror_mode": {
    "name": "ipython",
    "version": 3
   },
   "file_extension": ".py",
   "mimetype": "text/x-python",
   "name": "python",
   "nbconvert_exporter": "python",
   "pygments_lexer": "ipython3",
   "version": "3.8.12"
  },
  "orig_nbformat": 4
 },
 "nbformat": 4,
 "nbformat_minor": 2
}
