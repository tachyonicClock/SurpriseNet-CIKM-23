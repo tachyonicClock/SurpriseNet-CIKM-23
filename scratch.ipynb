{
 "cells": [
  {
   "cell_type": "code",
   "execution_count": 3,
   "metadata": {},
   "outputs": [],
   "source": [
    "import typing as t\n",
    "import matplotlib.pyplot as plt\n",
    "import pickle\n",
    "import pandas as pd\n",
    "from matplotlib import cm\n"
   ]
  },
  {
   "cell_type": "code",
   "execution_count": 24,
   "metadata": {},
   "outputs": [
    {
     "data": {
      "text/plain": [
       "dataset      architecture  strategy     \n",
       "S-CORe50     AE            finetuning       11\n",
       "                           nonContinual     11\n",
       "                           replay           20\n",
       "                           taskInference     1\n",
       "                           taskOracle       11\n",
       "SE-CIFAR100  AE            finetuning       11\n",
       "                           nonContinual     11\n",
       "                           replay           14\n",
       "                           taskInference    21\n",
       "                           taskOracle       11\n",
       "             VAE           taskInference    10\n",
       "SE-CORe50    AE            finetuning       11\n",
       "                           nonContinual     11\n",
       "                           replay           19\n",
       "                           taskInference     1\n",
       "                           taskOracle       11\n",
       "Name: id, dtype: int64"
      ]
     },
     "execution_count": 24,
     "metadata": {},
     "output_type": "execute_result"
    }
   ],
   "source": [
    "\n",
    "df = pd.read_csv('results/all_experiments.csv')\n",
    "df[\"completed\"] = df['completed_tasks'] == df[\"n_experiences\"]\n",
    "\n",
    "# df.columns\n",
    "df[df['completed']].groupby([\"dataset\", 'architecture', 'strategy']).count()[\"id\"]"
   ]
  }
 ],
 "metadata": {
  "interpreter": {
   "hash": "3da61e5833e84a62d788319a60b42555eb16c90e56e4122c42a93ad3481260d8"
  },
  "kernelspec": {
   "display_name": "Python 3.9.12 ('moacl')",
   "language": "python",
   "name": "python3"
  },
  "language_info": {
   "codemirror_mode": {
    "name": "ipython",
    "version": 3
   },
   "file_extension": ".py",
   "mimetype": "text/x-python",
   "name": "python",
   "nbconvert_exporter": "python",
   "pygments_lexer": "ipython3",
   "version": "3.9.15"
  },
  "orig_nbformat": 4
 },
 "nbformat": 4,
 "nbformat_minor": 2
}
