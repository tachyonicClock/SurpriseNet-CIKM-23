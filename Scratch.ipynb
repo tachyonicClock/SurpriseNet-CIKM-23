{
 "cells": [
  {
   "cell_type": "code",
   "execution_count": 1,
   "metadata": {},
   "outputs": [
    {
     "name": "stdout",
     "output_type": "stream",
     "text": [
      "weight\n",
      "bias\n"
     ]
    },
    {
     "data": {
      "text/plain": [
       "PN_CNN_Decoder(\n",
       "  (linear): Sequential(\n",
       "    (0): _PnLinear(\n",
       "      (wrappee): Linear(in_features=10, out_features=1024, bias=True)\n",
       "    )\n",
       "    (1): GELU()\n",
       "  )\n",
       "  (net): Sequential(\n",
       "    (0): _PnConvTransposed2d(\n",
       "      (wrappee): ConvTranspose2d(64, 64, kernel_size=(3, 3), stride=(2, 2), padding=(1, 1), output_padding=(1, 1))\n",
       "    )\n",
       "    (1): GELU()\n",
       "    (2): _PnConv2d(\n",
       "      (wrappee): Conv2d(64, 64, kernel_size=(3, 3), stride=(1, 1), padding=(1, 1))\n",
       "    )\n",
       "    (3): GELU()\n",
       "    (4): _PnConvTransposed2d(\n",
       "      (wrappee): ConvTranspose2d(64, 32, kernel_size=(3, 3), stride=(2, 2), padding=(1, 1), output_padding=(1, 1))\n",
       "    )\n",
       "    (5): GELU()\n",
       "    (6): _PnConv2d(\n",
       "      (wrappee): Conv2d(32, 32, kernel_size=(3, 3), stride=(1, 1), padding=(1, 1))\n",
       "    )\n",
       "    (7): GELU()\n",
       "    (8): _PnConvTransposed2d(\n",
       "      (wrappee): ConvTranspose2d(32, 1, kernel_size=(3, 3), stride=(2, 2), padding=(1, 1), output_padding=(1, 1))\n",
       "    )\n",
       "  )\n",
       ")"
      ]
     },
     "execution_count": 1,
     "metadata": {},
     "output_type": "execute_result"
    }
   ],
   "source": [
    "import typing\n",
    "import torch\n",
    "from torch import nn, Tensor\n",
    "from network.trait import PackNet\n",
    "from network.module.packnet import wrap as pn_wrap\n",
    "\n",
    "from network.coders import CNN_Encoder, PN_CNN_Decoder\n",
    "\n",
    "\n",
    "model = nn.Sequential(\n",
    "    nn.Linear(10, 10),\n",
    "    nn.Linear(10, 10),\n",
    ")\n",
    "\n",
    "for i, x in enumerate(model):\n",
    "    # print(x)\n",
    "    model[i] = pn_wrap(x)\n",
    "    # x = nn.Linear(20, 20)\n",
    "\n",
    "# pn_wrap(CNN_Encoder(1, 28, 64).net)\n",
    "# print(.net)\n",
    "for k, v in nn.ConvTranspose2d(10, 10, 3).named_parameters():\n",
    "    print(k)\n",
    "# print(list())\n",
    "# print(model)\n",
    "\n",
    "PN_CNN_Decoder(1, 32, 10)"
   ]
  },
  {
   "cell_type": "code",
   "execution_count": null,
   "metadata": {},
   "outputs": [],
   "source": []
  }
 ],
 "metadata": {
  "interpreter": {
   "hash": "4839fe716dff7faeda236a63134f028e1f3d97c1113b9276d429fcc26fd67641"
  },
  "kernelspec": {
   "display_name": "Python 3.8.12 ('avalanche-env')",
   "language": "python",
   "name": "python3"
  },
  "language_info": {
   "codemirror_mode": {
    "name": "ipython",
    "version": 3
   },
   "file_extension": ".py",
   "mimetype": "text/x-python",
   "name": "python",
   "nbconvert_exporter": "python",
   "pygments_lexer": "ipython3",
   "version": "3.8.12"
  },
  "orig_nbformat": 4
 },
 "nbformat": 4,
 "nbformat_minor": 2
}
