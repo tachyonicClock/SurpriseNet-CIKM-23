{
 "cells": [
  {
   "cell_type": "code",
   "execution_count": 34,
   "metadata": {},
   "outputs": [
    {
     "name": "stdout",
     "output_type": "stream",
     "text": [
      "Parameter containing:\n",
      "tensor([[-0.2774,  0.0830,  0.2784, -0.1648,  0.3567],\n",
      "        [ 0.3751, -0.1997, -0.2408,  0.3668,  0.3797],\n",
      "        [-0.3595,  0.3143,  0.0496,  0.2152,  0.1082],\n",
      "        [ 0.3120, -0.0409, -0.0345,  0.4040,  0.2687],\n",
      "        [-0.2520, -0.0071,  0.0449, -0.2251,  0.2997]], requires_grad=True)\n",
      "Parameter containing:\n",
      "tensor([[ 0.0000,  0.0830,  0.2784, -0.1648,  0.3567],\n",
      "        [ 0.3751, -0.1997, -0.2408,  0.3668,  0.3797],\n",
      "        [-0.3595,  0.3143,  0.0496,  0.2152,  0.1082],\n",
      "        [ 0.3120, -0.0409, -0.0345,  0.4040,  0.2687],\n",
      "        [-0.2520, -0.0071,  0.0449, -0.2251,  0.2997]], requires_grad=True)\n"
     ]
    }
   ],
   "source": [
    "import typing\n",
    "import torch\n",
    "from torch import nn, Tensor\n",
    "from network.trait import PackNet\n",
    "\n",
    "\n",
    "\n",
    "\n",
    "class PackNetDecorator(PackNet, ModuleDecorator):\n",
    "\n",
    "    def prune(self, to_prune_proportion: float):\n",
    "        pass\n",
    "\n",
    "    def push_pruned(self):\n",
    "        pass\n",
    "\n",
    "    def use_task_subset(self, task_id):\n",
    "        pass\n",
    "\n",
    "    def use_top_subset(self):\n",
    "        pass\n",
    "\n",
    "    def __init__(self, wrappee: nn.Module):\n",
    "        super().__init__(wrappee)\n",
    "\n",
    "\n",
    "\n",
    "\n",
    "\n",
    "lin = nn.Linear(5, 5)\n",
    "# lin.get_parameter(\"weight\")\n",
    "lin = PackNetDecorator(lin)\n",
    "\n",
    "print(lin.weight)\n",
    "\n",
    "\n",
    "with torch.no_grad():\n",
    "    lin.weight[0, 0] = 0.0\n",
    "\n",
    "print(lin.weight)\n",
    "\n"
   ]
  }
 ],
 "metadata": {
  "interpreter": {
   "hash": "4839fe716dff7faeda236a63134f028e1f3d97c1113b9276d429fcc26fd67641"
  },
  "kernelspec": {
   "display_name": "Python 3.8.12 ('avalanche-env')",
   "language": "python",
   "name": "python3"
  },
  "language_info": {
   "codemirror_mode": {
    "name": "ipython",
    "version": 3
   },
   "file_extension": ".py",
   "mimetype": "text/x-python",
   "name": "python",
   "nbconvert_exporter": "python",
   "pygments_lexer": "ipython3",
   "version": "3.8.12"
  },
  "orig_nbformat": 4
 },
 "nbformat": 4,
 "nbformat_minor": 2
}
