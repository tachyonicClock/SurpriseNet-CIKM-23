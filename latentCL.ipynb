{
 "cells": [
  {
   "cell_type": "markdown",
   "metadata": {},
   "source": []
  },
  {
   "cell_type": "code",
   "execution_count": 19,
   "metadata": {},
   "outputs": [],
   "source": [
    "from experiment import Experiment, BaseHyperParameters\n",
    "from dataclasses import dataclass\n",
    "from notebooks import encode_fashion_mnist\n",
    "import dill\n"
   ]
  },
  {
   "cell_type": "code",
   "execution_count": 47,
   "metadata": {},
   "outputs": [],
   "source": [
    "from avalanche.benchmarks.generators import nc_benchmark\n",
    "from notebooks import encode_fashion_mnist\n",
    "\n",
    "with open(\"notebooks/latent_fashion_mnist.pkl\", \"rb\") as f:\n",
    "    dataset = dill.load(f)\n",
    "\n",
    "\n",
    "scenario = nc_benchmark(\n",
    "    dataset.trainset, dataset.testset, n_experiences=10, shuffle=True, seed=1234,\n",
    "    task_labels=False\n",
    ")\n",
    "\n",
    "# print(dataset.targets)"
   ]
  },
  {
   "cell_type": "code",
   "execution_count": 48,
   "metadata": {},
   "outputs": [
    {
     "name": "stdout",
     "output_type": "stream",
     "text": [
      "Task 0 batch 0 -> train\n",
      "This batch contains 6000 patterns\n",
      "Task 0 batch 1 -> train\n",
      "This batch contains 6000 patterns\n",
      "Task 0 batch 2 -> train\n",
      "This batch contains 6000 patterns\n",
      "Task 0 batch 3 -> train\n",
      "This batch contains 6000 patterns\n",
      "Task 0 batch 4 -> train\n",
      "This batch contains 6000 patterns\n",
      "Task 0 batch 5 -> train\n",
      "This batch contains 6000 patterns\n",
      "Task 0 batch 6 -> train\n",
      "This batch contains 6000 patterns\n",
      "Task 0 batch 7 -> train\n",
      "This batch contains 6000 patterns\n",
      "Task 0 batch 8 -> train\n",
      "This batch contains 6000 patterns\n",
      "Task 0 batch 9 -> train\n",
      "This batch contains 6000 patterns\n"
     ]
    }
   ],
   "source": [
    "for experience in scenario.train_stream:\n",
    "    t = experience.task_label\n",
    "    exp_id = experience.current_experience\n",
    "    training_dataset = experience.dataset\n",
    "    print('Task {} batch {} -> train'.format(t, exp_id))\n",
    "    print('This batch contains', len(training_dataset), 'patterns')"
   ]
  },
  {
   "cell_type": "code",
   "execution_count": null,
   "metadata": {},
   "outputs": [],
   "source": [
    "@dataclass\n",
    "class HyperParams(BaseHyperParameters):\n",
    "    pass\n"
   ]
  },
  {
   "cell_type": "code",
   "execution_count": null,
   "metadata": {},
   "outputs": [],
   "source": []
  }
 ],
 "metadata": {
  "interpreter": {
   "hash": "4839fe716dff7faeda236a63134f028e1f3d97c1113b9276d429fcc26fd67641"
  },
  "kernelspec": {
   "display_name": "Python 3.8.12 64-bit ('avalanche-env': conda)",
   "language": "python",
   "name": "python3"
  },
  "language_info": {
   "codemirror_mode": {
    "name": "ipython",
    "version": 3
   },
   "file_extension": ".py",
   "mimetype": "text/x-python",
   "name": "python",
   "nbconvert_exporter": "python",
   "pygments_lexer": "ipython3",
   "version": "3.8.12"
  },
  "orig_nbformat": 4
 },
 "nbformat": 4,
 "nbformat_minor": 2
}
