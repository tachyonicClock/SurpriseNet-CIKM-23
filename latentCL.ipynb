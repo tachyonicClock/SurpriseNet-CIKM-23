{
 "cells": [
  {
   "cell_type": "markdown",
   "metadata": {},
   "source": []
  },
  {
   "cell_type": "code",
   "execution_count": null,
   "metadata": {},
   "outputs": [],
   "source": [
    "import typing\n",
    "import torch\n",
    "from torch import nn, Tensor\n",
    "from dataclasses import dataclass\n",
    "from conf import *\n",
    "import torch.nn.functional as F\n",
    "\n",
    "from experiment.experiment import Experiment, BaseHyperParameters\n",
    "%load_ext autoreload\n",
    "%autoreload 2"
   ]
  },
  {
   "cell_type": "code",
   "execution_count": null,
   "metadata": {},
   "outputs": [],
   "source": [
    "from avalanche.benchmarks.classic.cfashion_mnist import SplitFMNIST\n",
    "from network.ae_group import D_AE\n",
    "\n",
    "@dataclass\n",
    "class HyperParams(BaseHyperParameters):\n",
    "    pass\n",
    "\n",
    "class MyExperiment(Experiment):\n",
    "\n",
    "    hp: HyperParams\n",
    "    network: nn.Module\n",
    "\n",
    "    def __init__(self, hp: HyperParams) -> None:\n",
    "        super().__init__(hp)\n",
    "\n",
    "        self.after_eval_forward = self.after_forward\n",
    "\n",
    "    def make_network(self) -> nn.Module:\n",
    "        return D_AE(64, 10)\n",
    "\n",
    "    def make_optimizer(self, parameters) -> torch.optim.Optimizer:\n",
    "        optimizer = torch.optim.Adam(parameters, self.hp.lr)\n",
    "        return optimizer\n",
    "\n",
    "    def _reconstruction_loss(self,x: Tensor , x_hat: Tensor):\n",
    "        loss = F.mse_loss(x, x_hat, reduction=\"none\")\n",
    "        loss = loss.sum(dim=[1, 2, 3]).mean(dim=[0])\n",
    "        return loss\n",
    "\n",
    "    def after_forward(self, strategy: 'BaseStrategy', **kwargs):\n",
    "        \"\"\"Disentangle reconstruction and classification\"\"\"\n",
    "        x_hat, y_hat = self.strategy.mb_output\n",
    "        self.x_hat = x_hat\n",
    "        self.strategy.mb_output = y_hat\n",
    "\n",
    "    def make_criterion(self):\n",
    "        self.cross_entropy = nn.CrossEntropyLoss()\n",
    "\n",
    "        def AE_criterion(output, target):\n",
    "            x_hat = self.x_hat\n",
    "            y_hat = self.strategy.mb_output\n",
    "            x = self.strategy.mb_x\n",
    "            y = self.strategy.mb_y\n",
    "\n",
    "            reconstruction_loss = self._reconstruction_loss(x_hat, x)\n",
    "            classifier_loss = self.cross_entropy(y_hat, y)\n",
    "\n",
    "            # Log types of loss\n",
    "            self.log_scalar(\"ReconstructionLoss\", float(reconstruction_loss))\n",
    "            self.log_scalar(\"ClassifierLoss\", float(classifier_loss))\n",
    "            return reconstruction_loss + classifier_loss\n",
    "\n",
    "        return AE_criterion\n",
    "\n",
    "    def make_scenario(self):\n",
    "        scenario = SplitFMNIST(5, fixed_class_order=[0,1,2,3,4,5,6,7,8,9], dataset_root=DATASETS)\n",
    "        return scenario"
   ]
  },
  {
   "cell_type": "code",
   "execution_count": null,
   "metadata": {},
   "outputs": [],
   "source": [
    "_ = MyExperiment(\n",
    "    HyperParams(\n",
    "            lr=0.01,\n",
    "            train_mb_size=64,\n",
    "            train_epochs=20,\n",
    "            eval_mb_size=128,\n",
    "            eval_every=-1,\n",
    "            device=\"cuda\"\n",
    "    )\n",
    ").train()\n",
    "print(\"DONE!\")"
   ]
  },
  {
   "cell_type": "code",
   "execution_count": null,
   "metadata": {},
   "outputs": [],
   "source": [
    "from avalanche.benchmarks.scenarios.new_classes.nc_scenario import NCExperience\n",
    "from torchvision import transforms\n",
    "from metrics.reconstructions import GenerateReconstruction\n",
    "import numpy.random as random\n",
    "scenario = SplitFMNIST(5, fixed_class_order=[0,1,2,3,4,5,6,7,8,9], dataset_root=DATASETS)\n",
    "\n",
    "\n",
    "recon = GenerateReconstruction(scenario, 1, 0)\n",
    "# strategy = D_AE(64, 10)\n",
    "recon.after_eval_exp(experiment)\n",
    "\n"
   ]
  }
 ],
 "metadata": {
  "interpreter": {
   "hash": "4839fe716dff7faeda236a63134f028e1f3d97c1113b9276d429fcc26fd67641"
  },
  "kernelspec": {
   "display_name": "Python 3.8.12 64-bit ('avalanche-env': conda)",
   "language": "python",
   "name": "python3"
  },
  "language_info": {
   "codemirror_mode": {
    "name": "ipython",
    "version": 3
   },
   "file_extension": ".py",
   "mimetype": "text/x-python",
   "name": "python",
   "nbconvert_exporter": "python",
   "pygments_lexer": "ipython3",
   "version": "3.8.12"
  },
  "orig_nbformat": 4
 },
 "nbformat": 4,
 "nbformat_minor": 2
}
